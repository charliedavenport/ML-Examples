{
 "cells": [
  {
   "cell_type": "markdown",
   "metadata": {},
   "source": [
    "# Welcome to the ACM Machine Learning Subcommittee! \n",
    "\n",
    "Python libraries we will be using:\n",
    "\n",
    "* Numpy \n",
    "    - numerical computation\n",
    "* Pandas \n",
    "    - handling heterogenous, non-numerical data\n",
    "* Scikit-Learn \n",
    "    - training and evaluating models\n",
    "    - Fetching datasets\n",
    "* Matplotlib \n",
    "     - pretty pictures\n",
    "     - pyplot - MATLAB-like syntax in python"
   ]
  },
  {
   "cell_type": "code",
   "execution_count": 2,
   "metadata": {},
   "outputs": [],
   "source": [
    "from __future__ import print_function\n",
    "import numpy as np\n",
    "import pandas as pd\n",
    "import sklearn\n",
    "import matplotlib.pyplot as plt"
   ]
  },
  {
   "cell_type": "markdown",
   "metadata": {},
   "source": [
    "# Numpy Primer\n",
    "\n",
    "Main data structure: ndarray\n",
    "\n",
    "https://docs.scipy.org/doc/numpy-1.13.0/reference/generated/numpy.ndarray.html"
   ]
  },
  {
   "cell_type": "code",
   "execution_count": 15,
   "metadata": {},
   "outputs": [
    {
     "name": "stdout",
     "output_type": "stream",
     "text": [
      "[[ 0.  0.  0.]\n",
      " [ 0.  0.  0.]\n",
      " [ 0.  0.  0.]] (3, 3)\n",
      "[[ 1.  1.  1.  1.  1.]\n",
      " [ 1.  1.  1.  1.  1.]\n",
      " [ 1.  1.  1.  1.  1.]] (3, 5)\n",
      "[[ 0.40183315  0.04235873]\n",
      " [ 0.84510916  0.99702359]\n",
      " [ 0.56819211  0.90863983]\n",
      " [ 0.25558301  0.27273653]\n",
      " [ 0.44254216  0.36666297]] (5, 2)\n"
     ]
    }
   ],
   "source": [
    "zero_matrix = np.zeros(shape=(3,3))\n",
    "ones_matrix = np.ones(shape=(3,5))\n",
    "rand_matrix = np.random.rand(5,2)\n",
    "\n",
    "print(zero_matrix, zero_matrix.shape)\n",
    "print(ones_matrix, ones_matrix.shape)\n",
    "print(rand_matrix, rand_matrix.shape)"
   ]
  },
  {
   "cell_type": "code",
   "execution_count": 21,
   "metadata": {},
   "outputs": [
    {
     "name": "stdout",
     "output_type": "stream",
     "text": [
      "[[ 2.5132596   2.58742165]\n",
      " [ 2.5132596   2.58742165]\n",
      " [ 2.5132596   2.58742165]] (3, 2)\n"
     ]
    }
   ],
   "source": [
    "mult_matrix = np.dot(ones_matrix, rand_matrix)  # dot product == matrix-matrix multiply, matrix-vector multiply\n",
    "\n",
    "print(mult_matrix, mult_matrix.shape) # (3 x 5) * (5 x 2) => (3 x 2)"
   ]
  },
  {
   "cell_type": "markdown",
   "metadata": {},
   "source": [
    "# Array slicing\n",
    "\n",
    "Shorthand syntax for accessing sub-arrays by 'slicing' along the array's dimensions\n",
    "\n",
    "Suppose we only want rows 3 (inclusive) to 5 (exclusive) and columns 4 to 7. We would use the following line\n",
    "\n",
    "    array[3:5, 4:7]"
   ]
  },
  {
   "cell_type": "code",
   "execution_count": 39,
   "metadata": {},
   "outputs": [
    {
     "name": "stdout",
     "output_type": "stream",
     "text": [
      "[[ 0.  0.  0.]\n",
      " [ 0.  0.  0.]\n",
      " [ 0.  0.  0.]]\n",
      "\n",
      "[ 0.  0.  0.]\n",
      "\n",
      "[ 1.  1.  1.]\n",
      "\n",
      "[[ 0.40183315  0.04235873]\n",
      " [ 0.84510916  0.99702359]\n",
      " [ 0.56819211  0.90863983]]\n"
     ]
    }
   ],
   "source": [
    "# array[start : stop]\n",
    "# array[x_start : x_stop, y_start : y_stop, ...]\n",
    "\n",
    "print(zero_matrix[:,:]) # the full matrix\n",
    "print()\n",
    "print(zero_matrix[2,:]) # just the bottom row\n",
    "print()\n",
    "print(ones_matrix[0, 2:5]) # row 0, columns 2,3,4 => shape=(1,3)\n",
    "print()\n",
    "print(rand_matrix[:3, 0:]) # rows 0,1,2, columns 0,1 => shape=(3,2)"
   ]
  },
  {
   "cell_type": "markdown",
   "metadata": {},
   "source": [
    "# Pandas\n",
    "\n",
    "But what if I want to use heterogenous, possibly non-numerical data?\n",
    "\n",
    "pd.dataframe\n",
    "\n",
    "* Pandas main data structure\n",
    "* Heterogenous data\n",
    "* Supports non-numerical data\n",
    "\n",
    "Example Dataset: Boston Housing\n",
    "\n",
    "https://www.cs.toronto.edu/~delve/data/boston/bostonDetail.html"
   ]
  },
  {
   "cell_type": "code",
   "execution_count": 50,
   "metadata": {},
   "outputs": [
    {
     "name": "stdout",
     "output_type": "stream",
     "text": [
      "(506, 13)\n",
      "(506,)\n"
     ]
    }
   ],
   "source": [
    "from sklearn.datasets import load_boston\n",
    "\n",
    "\"\"\"\n",
    "BOSTON HOUSING DATASET\n",
    "    - 506 samples\n",
    "    - 13 features\n",
    "    - 1  target value ()\n",
    "\"\"\"\n",
    "\n",
    "boston_housing = load_boston()\n",
    "print(boston_housing.data.shape)\n",
    "print(boston_housing.target.shape)"
   ]
  },
  {
   "cell_type": "code",
   "execution_count": null,
   "metadata": {},
   "outputs": [],
   "source": [
    "X = boston_housing.data\n",
    "y = boston_housing.target"
   ]
  }
 ],
 "metadata": {
  "kernelspec": {
   "display_name": "Python 3",
   "language": "python",
   "name": "python3"
  },
  "language_info": {
   "codemirror_mode": {
    "name": "ipython",
    "version": 3
   },
   "file_extension": ".py",
   "mimetype": "text/x-python",
   "name": "python",
   "nbconvert_exporter": "python",
   "pygments_lexer": "ipython3",
   "version": "3.5.4"
  }
 },
 "nbformat": 4,
 "nbformat_minor": 2
}
