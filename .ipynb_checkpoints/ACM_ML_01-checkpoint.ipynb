{
 "cells": [
  {
   "cell_type": "markdown",
   "metadata": {},
   "source": [
    "# Welcome to the ACM Machine Learning Subcommittee! \n",
    "\n",
    "Python libraries we will be using:\n",
    "\n",
    "* Numpy \n",
    "    - store and manipulate numerical data efficiently\n",
    "* Scikit-Learn \n",
    "    - training and evaluating models\n",
    "    - Fetching datasets\n",
    "* Matplotlib \n",
    "     - pretty pictures\n",
    "     - pyplot - MATLAB-like syntax in python"
   ]
  },
  {
   "cell_type": "code",
   "execution_count": 1,
   "metadata": {},
   "outputs": [],
   "source": [
    "from __future__ import print_function\n",
    "import numpy as np\n",
    "import pandas as pd\n",
    "import sklearn\n",
    "import matplotlib.pyplot as plt"
   ]
  },
  {
   "cell_type": "markdown",
   "metadata": {},
   "source": [
    "# Numpy Primer\n",
    "\n",
    "Main data structure: ndarray\n",
    "\n",
    "* Multidimensional array of the same numerical type\n",
    "\n",
    "https://docs.scipy.org/doc/numpy-1.13.0/reference/generated/numpy.ndarray.html"
   ]
  },
  {
   "cell_type": "code",
   "execution_count": 2,
   "metadata": {},
   "outputs": [
    {
     "name": "stdout",
     "output_type": "stream",
     "text": [
      "[[ 0.  0.  0.]\n",
      " [ 0.  0.  0.]\n",
      " [ 0.  0.  0.]] (3, 3)\n",
      "[[ 1.  1.  1.  1.  1.]\n",
      " [ 1.  1.  1.  1.  1.]\n",
      " [ 1.  1.  1.  1.  1.]] (3, 5)\n",
      "[[ 0.26748092  0.16146953]\n",
      " [ 0.41660165  0.17366956]\n",
      " [ 0.17858325  0.396851  ]\n",
      " [ 0.2551812   0.53292952]\n",
      " [ 0.14381262  0.81311466]] (5, 2)\n"
     ]
    }
   ],
   "source": [
    "zero_matrix = np.zeros(shape=(3,3))\n",
    "ones_matrix = np.ones(shape=(3,5))\n",
    "rand_matrix = np.random.rand(5,2)\n",
    "\n",
    "print(zero_matrix, zero_matrix.shape)\n",
    "print(ones_matrix, ones_matrix.shape)\n",
    "print(rand_matrix, rand_matrix.shape)"
   ]
  },
  {
   "cell_type": "code",
   "execution_count": 3,
   "metadata": {},
   "outputs": [
    {
     "name": "stdout",
     "output_type": "stream",
     "text": [
      "[[ 1.26165965  2.07803427]\n",
      " [ 1.26165965  2.07803427]\n",
      " [ 1.26165965  2.07803427]] (3, 2)\n"
     ]
    }
   ],
   "source": [
    "mult_matrix = np.dot(ones_matrix, rand_matrix)  # dot product == matrix-matrix multiply, matrix-vector multiply\n",
    "\n",
    "print(mult_matrix, mult_matrix.shape) # (3 x 5) * (5 x 2) => (3 x 2)"
   ]
  },
  {
   "cell_type": "markdown",
   "metadata": {},
   "source": [
    "# Array slicing\n",
    "\n",
    "Shorthand syntax for accessing sub-arrays by 'slicing' along the array's dimensions\n",
    "\n",
    "Suppose we only want rows 3 (inclusive) to 5 (exclusive) and columns 4 to 7. We would use the following line\n",
    "\n",
    "    array[3:5, 4:7]"
   ]
  },
  {
   "cell_type": "code",
   "execution_count": 4,
   "metadata": {},
   "outputs": [
    {
     "name": "stdout",
     "output_type": "stream",
     "text": [
      "[[ 0.  0.  0.]\n",
      " [ 0.  0.  0.]\n",
      " [ 0.  0.  0.]]\n",
      "\n",
      "[ 0.  0.  0.]\n",
      "\n",
      "[ 1.  1.  1.]\n",
      "\n",
      "[[ 0.26748092  0.16146953]\n",
      " [ 0.41660165  0.17366956]\n",
      " [ 0.17858325  0.396851  ]]\n"
     ]
    }
   ],
   "source": [
    "# array[start : stop]\n",
    "# array[x_start : x_stop, y_start : y_stop, ...]\n",
    "\n",
    "print(zero_matrix[:,:]) # the full matrix\n",
    "print()\n",
    "print(zero_matrix[2,:]) # just the bottom row\n",
    "print()\n",
    "print(ones_matrix[0, 2:5]) # row 0, columns 2,3,4 => shape=(1,3)\n",
    "print()\n",
    "print(rand_matrix[:3, 0:]) # rows 0,1,2, columns 0,1 => shape=(3,2)"
   ]
  },
  {
   "cell_type": "markdown",
   "metadata": {},
   "source": [
    "# Matplotlib\n",
    "\n",
    "* We give pyplot numpy arrays, and it plots them\n",
    "\n"
   ]
  },
  {
   "cell_type": "code",
   "execution_count": 6,
   "metadata": {},
   "outputs": [
    {
     "name": "stdout",
     "output_type": "stream",
     "text": [
      "(50,) (50,)\n"
     ]
    },
    {
     "data": {
      "text/plain": [
       "[<matplotlib.lines.Line2D at 0x190afb1df60>]"
      ]
     },
     "execution_count": 6,
     "metadata": {},
     "output_type": "execute_result"
    },
    {
     "data": {
      "image/png": "[encoded data removed]",
      "text/plain": [
       "<matplotlib.figure.Figure at 0x190afae60b8>"
      ]
     },
     "metadata": {},
     "output_type": "display_data"
    }
   ],
   "source": [
    "x = np.arange(0, 5, 0.1) # another useful numpy function - gives us a 1-D array from 0 to 5, step-size=0.1\n",
    "y = np.sin(x)\n",
    "print(x.shape, y.shape)\n",
    "plt.plot(x,y)"
   ]
  },
  {
   "cell_type": "code",
   "execution_count": 9,
   "metadata": {},
   "outputs": [
    {
     "data": {
      "text/plain": [
       "<matplotlib.collections.PathCollection at 0x190afb89ba8>"
      ]
     },
     "execution_count": 9,
     "metadata": {},
     "output_type": "execute_result"
    },
    {
     "data": {
      "image/png": "[encoded data removed]",
      "text/plain": [
       "<matplotlib.figure.Figure at 0x190afb957f0>"
      ]
     },
     "metadata": {},
     "output_type": "display_data"
    }
   ],
   "source": [
    "plt.scatter(rand_matrix[:,0], rand_matrix[:,1])"
   ]
  },
  {
   "cell_type": "code",
   "execution_count": 23,
   "metadata": {},
   "outputs": [
    {
     "data": {
      "text/plain": [
       "<matplotlib.legend.Legend at 0x190b19fbd68>"
      ]
     },
     "execution_count": 23,
     "metadata": {},
     "output_type": "execute_result"
    },
    {
     "data": {
      "image/png": "[encoded data removed]",
      "text/plain": [
       "<matplotlib.figure.Figure at 0x190b19ba2e8>"
      ]
     },
     "metadata": {},
     "output_type": "display_data"
    }
   ],
   "source": [
    "# plot options\n",
    "y1 = np.cos(x)\n",
    "y2 = np.tanh(x)\n",
    "plt.plot(x, y2, 'm|' , label='tanh')\n",
    "plt.plot(x, y1, 'g+', label='cos')\n",
    "plt.plot(x, y, 'r--', label='sin')\n",
    "plt.legend()"
   ]
  },
  {
   "cell_type": "code",
   "execution_count": 31,
   "metadata": {},
   "outputs": [
    {
     "data": {
      "text/plain": [
       "<matplotlib.image.AxesImage at 0x190b1e9b080>"
      ]
     },
     "execution_count": 31,
     "metadata": {},
     "output_type": "execute_result"
    },
    {
     "data": {
      "image/png": "[encoded data removed]",
      "text/plain": [
       "<matplotlib.figure.Figure at 0x190b2267278>"
      ]
     },
     "metadata": {},
     "output_type": "display_data"
    }
   ],
   "source": [
    "# We'll be using this function to visualize image data - very handy!\n",
    "plt.imshow(rand_matrix, cmap='Greys')"
   ]
  },
  {
   "cell_type": "code",
   "execution_count": null,
   "metadata": {},
   "outputs": [],
   "source": []
  }
 ],
 "metadata": {
  "kernelspec": {
   "display_name": "Python 3",
   "language": "python",
   "name": "python3"
  },
  "language_info": {
   "codemirror_mode": {
    "name": "ipython",
    "version": 3
   },
   "file_extension": ".py",
   "mimetype": "text/x-python",
   "name": "python",
   "nbconvert_exporter": "python",
   "pygments_lexer": "ipython3",
   "version": "3.5.4"
  }
 },
 "nbformat": 4,
 "nbformat_minor": 2
}
