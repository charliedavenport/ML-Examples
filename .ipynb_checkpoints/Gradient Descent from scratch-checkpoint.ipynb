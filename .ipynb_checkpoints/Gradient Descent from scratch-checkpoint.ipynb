{
 "cells": [
  {
   "cell_type": "markdown",
   "metadata": {},
   "source": [
    "# Setup\n"
   ]
  },
  {
   "cell_type": "code",
   "execution_count": 3,
   "metadata": {},
   "outputs": [
    {
     "name": "stdout",
     "output_type": "stream",
     "text": [
      "Iris Plants Database\n",
      "====================\n",
      "\n",
      "Notes\n",
      "-----\n",
      "Data Set Characteristics:\n",
      "    :Number of Instances: 150 (50 in each of three classes)\n",
      "    :Number of Attributes: 4 numeric, predictive attributes and the class\n",
      "    :Attribute Information:\n",
      "        - sepal length in cm\n",
      "        - sepal width in cm\n",
      "        - petal length in cm\n",
      "        - petal width in cm\n",
      "        - class:\n",
      "                - Iris-Setosa\n",
      "                - Iris-Versicolour\n",
      "                - Iris-Virginica\n",
      "    :Summary Statistics:\n",
      "\n",
      "    ============== ==== ==== ======= ===== ====================\n",
      "                    Min  Max   Mean    SD   Class Correlation\n",
      "    ============== ==== ==== ======= ===== ====================\n",
      "    sepal length:   4.3  7.9   5.84   0.83    0.7826\n",
      "    sepal width:    2.0  4.4   3.05   0.43   -0.4194\n",
      "    petal length:   1.0  6.9   3.76   1.76    0.9490  (high!)\n",
      "    petal width:    0.1  2.5   1.20  0.76     0.9565  (high!)\n",
      "    ============== ==== ==== ======= ===== ====================\n",
      "\n",
      "    :Missing Attribute Values: None\n",
      "    :Class Distribution: 33.3% for each of 3 classes.\n",
      "    :Creator: R.A. Fisher\n",
      "    :Donor: Michael Marshall (MARSHALL%PLU@io.arc.nasa.gov)\n",
      "    :Date: July, 1988\n",
      "\n",
      "This is a copy of UCI ML iris datasets.\n",
      "http://archive.ics.uci.edu/ml/datasets/Iris\n",
      "\n",
      "The famous Iris database, first used by Sir R.A Fisher\n",
      "\n",
      "This is perhaps the best known database to be found in the\n",
      "pattern recognition literature.  Fisher's paper is a classic in the field and\n",
      "is referenced frequently to this day.  (See Duda & Hart, for example.)  The\n",
      "data set contains 3 classes of 50 instances each, where each class refers to a\n",
      "type of iris plant.  One class is linearly separable from the other 2; the\n",
      "latter are NOT linearly separable from each other.\n",
      "\n",
      "References\n",
      "----------\n",
      "   - Fisher,R.A. \"The use of multiple measurements in taxonomic problems\"\n",
      "     Annual Eugenics, 7, Part II, 179-188 (1936); also in \"Contributions to\n",
      "     Mathematical Statistics\" (John Wiley, NY, 1950).\n",
      "   - Duda,R.O., & Hart,P.E. (1973) Pattern Classification and Scene Analysis.\n",
      "     (Q327.D83) John Wiley & Sons.  ISBN 0-471-22361-1.  See page 218.\n",
      "   - Dasarathy, B.V. (1980) \"Nosing Around the Neighborhood: A New System\n",
      "     Structure and Classification Rule for Recognition in Partially Exposed\n",
      "     Environments\".  IEEE Transactions on Pattern Analysis and Machine\n",
      "     Intelligence, Vol. PAMI-2, No. 1, 67-71.\n",
      "   - Gates, G.W. (1972) \"The Reduced Nearest Neighbor Rule\".  IEEE Transactions\n",
      "     on Information Theory, May 1972, 431-433.\n",
      "   - See also: 1988 MLC Proceedings, 54-64.  Cheeseman et al\"s AUTOCLASS II\n",
      "     conceptual clustering system finds 3 classes in the data.\n",
      "   - Many, many more ...\n",
      "\n"
     ]
    },
    {
     "data": {
      "text/plain": [
       "'\\n    150 samples\\n    4 features (numeric)\\n    3 target classes\\n'"
      ]
     },
     "execution_count": 3,
     "metadata": {},
     "output_type": "execute_result"
    }
   ],
   "source": [
    "import numpy as np\n",
    "from sklearn.datasets import load_iris # the only sklearn import in this notebook\n",
    "iris = load_iris()\n",
    "print(iris.DESCR)\n",
    "\"\"\"\n",
    "    150 samples\n",
    "    4 features (numeric)\n",
    "    3 target classes\n",
    "\"\"\""
   ]
  },
  {
   "cell_type": "markdown",
   "metadata": {},
   "source": [
    "# Linear Regression\n",
    "\n",
    "$\\large{\\hat y_i = x_i  \\cdot \\theta}$"
   ]
  },
  {
   "cell_type": "code",
   "execution_count": 4,
   "metadata": {},
   "outputs": [
    {
     "data": {
      "image/png": "[encoded data removed]",
      "text/plain": [
       "<matplotlib.figure.Figure at 0x2a044be45c0>"
      ]
     },
     "metadata": {},
     "output_type": "display_data"
    }
   ],
   "source": [
    "import matplotlib.pyplot as plt\n",
    "# generate noisy, linear data      y = 4 + 3x (+ noise)\n",
    "X = 2 * np.random.rand(100,1)\n",
    "y = 4 + 3 * X + 2 * (np.random.rand(100,1) - 0.5)\n",
    "\n",
    "plt.plot(X, y, 'b.')\n",
    "plt.axis([0,2,2,12])\n",
    "plt.show()"
   ]
  },
  {
   "cell_type": "code",
   "execution_count": 5,
   "metadata": {},
   "outputs": [
    {
     "data": {
      "text/plain": [
       "(100, 2)"
      ]
     },
     "execution_count": 5,
     "metadata": {},
     "output_type": "execute_result"
    }
   ],
   "source": [
    "X_b = np.c_[np.ones((100,1)), X]\n",
    "X_b.shape"
   ]
  },
  {
   "cell_type": "markdown",
   "metadata": {},
   "source": [
    "# Batch Gradient Descent\n",
    "\n",
    "Cost function: Mean Squarred Error (MSE)\n",
    "\n",
    "Gradient of the cost function w.r.t. the j-th parameter:\n",
    "\n",
    "$\\large{\\frac{\\partial}{\\partial \\theta_j}MSE(\\mathbf{\\theta}) = \\frac 2m \\sum_{i=1}^{m} \\left(\\mathbf{\\theta}^T \\cdot \\mathbf{x}^{(i)} - y^{(i)}\\right)x_j^{(i)}}$\n",
    "\n",
    "with respect to the entire parameter vector:\n",
    "\n",
    "$\\large{ \\nabla_\\theta MSE(\\theta) =  \\frac2m \\mathbf{X}^T\\cdot (\\mathbf{X} \\cdot \\theta - \\mathbf{y}) }$\n",
    "\n",
    "Update step:\n",
    "\n",
    "$\\large{ \\theta^{(next)} = \\theta - \\eta\\nabla_{\\theta}MSE(\\theta) }$"
   ]
  },
  {
   "cell_type": "code",
   "execution_count": 6,
   "metadata": {},
   "outputs": [],
   "source": [
    "eta = 0.1\n",
    "n_iter = 1000\n",
    "m= 100 # number of samples\n",
    "theta = np.random.rand(2,1) # 1 feature, 1 bias term\n",
    "\n",
    "for iter in range(n_iter):\n",
    "    grads = 2/m * X_b.T.dot(X_b.dot(theta) - y)\n",
    "    theta = theta - eta * grads"
   ]
  },
  {
   "cell_type": "code",
   "execution_count": 7,
   "metadata": {},
   "outputs": [
    {
     "data": {
      "text/plain": [
       "array([[ 3.88099083],\n",
       "       [ 3.07139277]])"
      ]
     },
     "execution_count": 7,
     "metadata": {},
     "output_type": "execute_result"
    }
   ],
   "source": [
    "theta"
   ]
  },
  {
   "cell_type": "code",
   "execution_count": 8,
   "metadata": {},
   "outputs": [
    {
     "data": {
      "text/plain": [
       "array([[ 1.,  0.],\n",
       "       [ 1.,  2.]])"
      ]
     },
     "execution_count": 8,
     "metadata": {},
     "output_type": "execute_result"
    }
   ],
   "source": [
    "X_new = np.array([[0], [2]])\n",
    "X_new_b = np.c_[np.ones((2, 1)), X_new]  # add x0 = 1 to each instance\n",
    "X_new_b"
   ]
  },
  {
   "cell_type": "code",
   "execution_count": 9,
   "metadata": {},
   "outputs": [
    {
     "data": {
      "image/png": "[encoded data removed]",
      "text/plain": [
       "<matplotlib.figure.Figure at 0x2a044c03438>"
      ]
     },
     "metadata": {},
     "output_type": "display_data"
    }
   ],
   "source": [
    "pred = X_new_b.dot(theta)\n",
    "plt.plot(X, y, 'b.')\n",
    "plt.plot(X_new, pred, 'r-')\n",
    "plt.axis([0,2,2,12])\n",
    "plt.show()"
   ]
  },
  {
   "cell_type": "markdown",
   "metadata": {},
   "source": [
    "# Logistic Regression\n",
    "\n",
    "probability of class membership on a sample:\n",
    "\n",
    "$\\large{\\hat p_i = \\sigma( \\theta ^T \\cdot x_i )}$\n",
    "\n",
    "where $\\large{\\sigma(t) = \\frac{1}{1 + e^{-t}}}$ is the sigmoid 'squishification' function\n",
    "\n",
    "output 1 or 0 for binary classification:\n",
    "\n",
    "$\\large{\\hat y = \\begin{cases} 0 & \\text{if } \\hat p < 0.5 \\\\ 1 & \\text{if } \\hat p \\geq 0.5 \\end{cases}}$ "
   ]
  },
  {
   "cell_type": "code",
   "execution_count": 10,
   "metadata": {},
   "outputs": [
    {
     "name": "stdout",
     "output_type": "stream",
     "text": [
      "(150,) (150,)\n"
     ]
    }
   ],
   "source": [
    "X = iris.data[:, 3] # (only considering petal width)\n",
    "y = (iris.target == 2).astype(np.int) # starting with binary classification (Iris-Virginica)\n",
    "print(X.shape, y.shape)"
   ]
  },
  {
   "cell_type": "code",
   "execution_count": 11,
   "metadata": {
    "collapsed": true
   },
   "outputs": [],
   "source": [
    "sig = lambda t: 1/(1+exp(-t))"
   ]
  },
  {
   "cell_type": "code",
   "execution_count": 12,
   "metadata": {
    "collapsed": true
   },
   "outputs": [],
   "source": [
    "def log_reg_predict(X, theta):\n",
    "    # add bias term x0=1 to each instance\n",
    "    X_b = np.c_[np.ones((X.shape[0], 1)), X]\n",
    "    proba = X_b.dot(theta)\n",
    "    p_hat = sig(y_pred)\n",
    "    y_pred = (p_hat >= 0.5)\n",
    "    return y_pred"
   ]
  },
  {
   "cell_type": "code",
   "execution_count": 13,
   "metadata": {
    "collapsed": true
   },
   "outputs": [],
   "source": [
    "def log_reg_predict_proba(X, theta):\n",
    "    X_b = np.c_[np.ones((X.shape[0], 1)), X]\n",
    "    proba = X_b.dot(theta)\n",
    "    p_hat = sig(y_pred)\n",
    "    return p_hat"
   ]
  },
  {
   "cell_type": "code",
   "execution_count": null,
   "metadata": {
    "collapsed": true
   },
   "outputs": [],
   "source": []
  }
 ],
 "metadata": {
  "kernelspec": {
   "display_name": "Python 3",
   "language": "python",
   "name": "python3"
  },
  "language_info": {
   "codemirror_mode": {
    "name": "ipython",
    "version": 3
   },
   "file_extension": ".py",
   "mimetype": "text/x-python",
   "name": "python",
   "nbconvert_exporter": "python",
   "pygments_lexer": "ipython3",
   "version": "3.5.4"
  }
 },
 "nbformat": 4,
 "nbformat_minor": 2
}
