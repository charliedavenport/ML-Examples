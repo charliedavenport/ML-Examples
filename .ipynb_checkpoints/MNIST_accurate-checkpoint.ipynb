{
 "cells": [
  {
   "cell_type": "markdown",
   "metadata": {},
   "source": [
    "# Accurate MNIST\n",
    "\n",
    "The goal of this notebook is to train a model (using scikit-learn) to achieve at least 97% accuracy on the MNIST dataset. This is my solution to Ch3, exercise 1 in Hands-on ML using scikit-learn and tensorflow"
   ]
  },
  {
   "cell_type": "code",
   "execution_count": 2,
   "metadata": {},
   "outputs": [
    {
     "data": {
      "text/plain": [
       "{'COL_NAMES': ['label', 'data'],\n",
       " 'DESCR': 'mldata.org dataset: mnist-original',\n",
       " 'data': array([[0, 0, 0, ..., 0, 0, 0],\n",
       "        [0, 0, 0, ..., 0, 0, 0],\n",
       "        [0, 0, 0, ..., 0, 0, 0],\n",
       "        ..., \n",
       "        [0, 0, 0, ..., 0, 0, 0],\n",
       "        [0, 0, 0, ..., 0, 0, 0],\n",
       "        [0, 0, 0, ..., 0, 0, 0]], dtype=uint8),\n",
       " 'target': array([ 0.,  0.,  0., ...,  9.,  9.,  9.])}"
      ]
     },
     "execution_count": 2,
     "metadata": {},
     "output_type": "execute_result"
    }
   ],
   "source": [
    "import numpy as np\n",
    "from sklearn.datasets import fetch_mldata\n",
    "\n",
    "mnist = fetch_mldata('MNIST original')\n",
    "mnist"
   ]
  },
  {
   "cell_type": "code",
   "execution_count": 3,
   "metadata": {},
   "outputs": [],
   "source": [
    "X = mnist.data   # (70000, 784)\n",
    "y = mnist.target # (70000,)\n",
    "X_train, X_test = X[:60000], X[60000:]\n",
    "y_train, y_test = y[:60000], y[60000:]"
   ]
  },
  {
   "cell_type": "code",
   "execution_count": 4,
   "metadata": {},
   "outputs": [],
   "source": [
    "from sklearn.ensemble import RandomForestClassifier\n",
    "\n",
    "rfc_clf = RandomForestClassifier() # default params to start"
   ]
  },
  {
   "cell_type": "code",
   "execution_count": 5,
   "metadata": {},
   "outputs": [
    {
     "data": {
      "text/plain": [
       "RandomForestClassifier(bootstrap=True, class_weight=None, criterion='gini',\n",
       "            max_depth=None, max_features='auto', max_leaf_nodes=None,\n",
       "            min_impurity_decrease=0.0, min_impurity_split=None,\n",
       "            min_samples_leaf=1, min_samples_split=2,\n",
       "            min_weight_fraction_leaf=0.0, n_estimators=10, n_jobs=1,\n",
       "            oob_score=False, random_state=None, verbose=0,\n",
       "            warm_start=False)"
      ]
     },
     "execution_count": 5,
     "metadata": {},
     "output_type": "execute_result"
    }
   ],
   "source": [
    "from sklearn.metrics import accuracy_score\n",
    "# first, let's see how the default params perform\n",
    "rfc_clf.fit(X_train, y_train)"
   ]
  },
  {
   "cell_type": "code",
   "execution_count": 6,
   "metadata": {},
   "outputs": [],
   "source": [
    "pred = rfc_clf.predict(X_test)"
   ]
  },
  {
   "cell_type": "code",
   "execution_count": 7,
   "metadata": {},
   "outputs": [
    {
     "name": "stdout",
     "output_type": "stream",
     "text": [
      "0.9475\n"
     ]
    }
   ],
   "source": [
    "score = accuracy_score(y_test, pred)\n",
    "print(score) # initial score = 94.94; not a bad starting point"
   ]
  },
  {
   "cell_type": "markdown",
   "metadata": {},
   "source": [
    "# Running a Grid Search on the RandomForestClassifier"
   ]
  },
  {
   "cell_type": "code",
   "execution_count": null,
   "metadata": {},
   "outputs": [
    {
     "name": "stdout",
     "output_type": "stream",
     "text": [
      "Fitting 5 folds for each of 18 candidates, totalling 90 fits\n",
      "[CV] max_features=None, n_estimators=10, max_depth=None ..............\n"
     ]
    }
   ],
   "source": [
    "from sklearn.model_selection import GridSearchCV\n",
    "\n",
    "params = {'n_estimators' : [10, 20, 30],\n",
    "          'max_features' : [None, 'sqrt', 'log2'],\n",
    "          'max_depth' : [None, 10]\n",
    "         }\n",
    "grid_search = GridSearchCV(rfc_clf, params, cv=5, verbose=2)\n",
    "grid_search.fit(X_train, y_train)"
   ]
  },
  {
   "cell_type": "code",
   "execution_count": 13,
   "metadata": {},
   "outputs": [
    {
     "data": {
      "text/plain": [
       "0.96309999999999996"
      ]
     },
     "execution_count": 13,
     "metadata": {},
     "output_type": "execute_result"
    }
   ],
   "source": [
    "rfc_best = grid_search.best_estimator_\n",
    "pred = rfc_best.predict(X_test)\n",
    "score = accuracy_score(y_test, pred)\n",
    "score\n",
    "\n",
    "# 96.31% test accuracy - not bad, but still not 97%"
   ]
  },
  {
   "cell_type": "code",
   "execution_count": 15,
   "metadata": {},
   "outputs": [
    {
     "name": "stdout",
     "output_type": "stream",
     "text": [
      "Fitting 5 folds for each of 4 candidates, totalling 20 fits\n",
      "[CV] n_estimators=30 .................................................\n",
      "[CV] .................. n_estimators=30, score=0.961100, total=   9.1s\n",
      "[CV] n_estimators=30 .................................................\n"
     ]
    },
    {
     "name": "stderr",
     "output_type": "stream",
     "text": [
      "[Parallel(n_jobs=1)]: Done   1 out of   1 | elapsed:    9.8s remaining:    0.0s\n"
     ]
    },
    {
     "name": "stdout",
     "output_type": "stream",
     "text": [
      "[CV] .................. n_estimators=30, score=0.957007, total=   8.8s\n",
      "[CV] n_estimators=30 .................................................\n"
     ]
    },
    {
     "name": "stderr",
     "output_type": "stream",
     "text": [
      "[Parallel(n_jobs=1)]: Done   2 out of   2 | elapsed:   19.3s remaining:    0.0s\n"
     ]
    },
    {
     "name": "stdout",
     "output_type": "stream",
     "text": [
      "[CV] .................. n_estimators=30, score=0.959917, total=   9.2s\n",
      "[CV] n_estimators=30 .................................................\n",
      "[CV] .................. n_estimators=30, score=0.957656, total=   9.1s\n",
      "[CV] n_estimators=30 .................................................\n",
      "[CV] .................. n_estimators=30, score=0.966155, total=   8.8s\n",
      "[CV] n_estimators=35 .................................................\n",
      "[CV] .................. n_estimators=35, score=0.963099, total=  10.5s\n",
      "[CV] n_estimators=35 .................................................\n",
      "[CV] .................. n_estimators=35, score=0.961256, total=  10.4s\n",
      "[CV] n_estimators=35 .................................................\n",
      "[CV] .................. n_estimators=35, score=0.959250, total=  10.4s\n",
      "[CV] n_estimators=35 .................................................\n",
      "[CV] .................. n_estimators=35, score=0.958156, total=  10.1s\n",
      "[CV] n_estimators=35 .................................................\n",
      "[CV] .................. n_estimators=35, score=0.965905, total=  10.5s\n",
      "[CV] n_estimators=40 .................................................\n",
      "[CV] .................. n_estimators=40, score=0.964598, total=  11.5s\n",
      "[CV] n_estimators=40 .................................................\n",
      "[CV] .................. n_estimators=40, score=0.962590, total=  12.2s\n",
      "[CV] n_estimators=40 .................................................\n",
      "[CV] .................. n_estimators=40, score=0.960167, total=  12.0s\n",
      "[CV] n_estimators=40 .................................................\n",
      "[CV] .................. n_estimators=40, score=0.960490, total=  12.0s\n",
      "[CV] n_estimators=40 .................................................\n",
      "[CV] .................. n_estimators=40, score=0.966489, total=  11.6s\n",
      "[CV] n_estimators=45 .................................................\n",
      "[CV] .................. n_estimators=45, score=0.964098, total=  13.5s\n",
      "[CV] n_estimators=45 .................................................\n",
      "[CV] .................. n_estimators=45, score=0.962423, total=  13.6s\n",
      "[CV] n_estimators=45 .................................................\n",
      "[CV] .................. n_estimators=45, score=0.961083, total=  13.4s\n",
      "[CV] n_estimators=45 .................................................\n",
      "[CV] .................. n_estimators=45, score=0.960407, total=  13.7s\n",
      "[CV] n_estimators=45 .................................................\n",
      "[CV] .................. n_estimators=45, score=0.967573, total=  15.0s\n"
     ]
    },
    {
     "name": "stderr",
     "output_type": "stream",
     "text": [
      "[Parallel(n_jobs=1)]: Done  20 out of  20 | elapsed:  4.1min finished\n"
     ]
    },
    {
     "data": {
      "text/plain": [
       "GridSearchCV(cv=5, error_score='raise',\n",
       "       estimator=RandomForestClassifier(bootstrap=True, class_weight=None, criterion='gini',\n",
       "            max_depth=None, max_features='auto', max_leaf_nodes=None,\n",
       "            min_impurity_split=1e-07, min_samples_leaf=1,\n",
       "            min_samples_split=2, min_weight_fraction_leaf=0.0,\n",
       "            n_estimators=10, n_jobs=1, oob_score=False, random_state=None,\n",
       "            verbose=0, warm_start=False),\n",
       "       fit_params={}, iid=True, n_jobs=1,\n",
       "       param_grid={'n_estimators': [30, 35, 40, 45]},\n",
       "       pre_dispatch='2*n_jobs', refit=True, return_train_score=True,\n",
       "       scoring=None, verbose=3)"
      ]
     },
     "execution_count": 15,
     "metadata": {},
     "output_type": "execute_result"
    }
   ],
   "source": [
    "# seems like the most important parameter is n_estimators\n",
    "# we'll run another grid search with different n_estimators values\n",
    "rfc_clf = RandomForestClassifier() # starting over with a new blank classifier\n",
    "grid_search = GridSearchCV(rfc_clf, {'n_estimators' : [30, 35, 40, 45]},\n",
    "                           cv=5, verbose=3)\n",
    "grid_search.fit(X_train, y_train)"
   ]
  },
  {
   "cell_type": "code",
   "execution_count": 18,
   "metadata": {},
   "outputs": [
    {
     "data": {
      "text/plain": [
       "{'n_estimators': 45}"
      ]
     },
     "execution_count": 18,
     "metadata": {},
     "output_type": "execute_result"
    }
   ],
   "source": [
    "grid_search.best_params_"
   ]
  },
  {
   "cell_type": "code",
   "execution_count": 16,
   "metadata": {},
   "outputs": [
    {
     "data": {
      "text/plain": [
       "0.96699999999999997"
      ]
     },
     "execution_count": 16,
     "metadata": {},
     "output_type": "execute_result"
    }
   ],
   "source": [
    "rfc_clf_best = grid_search.best_estimator_\n",
    "pred = rfc_clf_best.predict(X_test)\n",
    "score = accuracy_score(y_test, pred)\n",
    "score\n",
    "\n",
    "# 96.70% test accuracy - so close I can taste it!!"
   ]
  },
  {
   "cell_type": "markdown",
   "metadata": {},
   "source": [
    "# Gradient Tree Boosting\n",
    "\n"
   ]
  },
  {
   "cell_type": "code",
   "execution_count": null,
   "metadata": {
    "collapsed": true
   },
   "outputs": [],
   "source": []
  }
 ],
 "metadata": {
  "kernelspec": {
   "display_name": "Python 3",
   "language": "python",
   "name": "python3"
  },
  "language_info": {
   "codemirror_mode": {
    "name": "ipython",
    "version": 3
   },
   "file_extension": ".py",
   "mimetype": "text/x-python",
   "name": "python",
   "nbconvert_exporter": "python",
   "pygments_lexer": "ipython3",
   "version": "3.5.4"
  }
 },
 "nbformat": 4,
 "nbformat_minor": 2
}
