{
 "cells": [
  {
   "cell_type": "markdown",
   "metadata": {},
   "source": [
    "# MLP for Multi-Class Softmax Classification of MNIST Dataset"
   ]
  },
  {
   "cell_type": "code",
   "execution_count": 2,
   "metadata": {},
   "outputs": [
    {
     "name": "stdout",
     "output_type": "stream",
     "text": [
      "(60000,)\n",
      "(60000, 10)\n",
      "_________________________________________________________________\n",
      "Layer (type)                 Output Shape              Param #   \n",
      "=================================================================\n",
      "dense_1 (Dense)              (None, 256)               200960    \n",
      "_________________________________________________________________\n",
      "dense_2 (Dense)              (None, 256)               65792     \n",
      "_________________________________________________________________\n",
      "dense_3 (Dense)              (None, 10)                2570      \n",
      "=================================================================\n",
      "Total params: 269,322\n",
      "Trainable params: 269,322\n",
      "Non-trainable params: 0\n",
      "_________________________________________________________________\n",
      "Train on 60000 samples, validate on 10000 samples\n",
      "Epoch 1/20\n",
      "60000/60000 [==============================] - 3s - loss: 1.1704 - acc: 0.7357 - val_loss: 0.5584 - val_acc: 0.8694\n",
      "Epoch 2/20\n",
      "60000/60000 [==============================] - 2s - loss: 0.4700 - acc: 0.8797 - val_loss: 0.3833 - val_acc: 0.8983\n",
      "Epoch 3/20\n",
      "60000/60000 [==============================] - 2s - loss: 0.3694 - acc: 0.8990 - val_loss: 0.3279 - val_acc: 0.9104\n",
      "Epoch 4/20\n",
      "60000/60000 [==============================] - 2s - loss: 0.3266 - acc: 0.9086 - val_loss: 0.2993 - val_acc: 0.9174\n",
      "Epoch 5/20\n",
      "60000/60000 [==============================] - 3s - loss: 0.2996 - acc: 0.9164 - val_loss: 0.2786 - val_acc: 0.9216\n",
      "Epoch 6/20\n",
      "60000/60000 [==============================] - 2s - loss: 0.2799 - acc: 0.9226 - val_loss: 0.2627 - val_acc: 0.9267\n",
      "Epoch 7/20\n",
      "60000/60000 [==============================] - 2s - loss: 0.2636 - acc: 0.9266 - val_loss: 0.2487 - val_acc: 0.9290\n",
      "Epoch 8/20\n",
      "60000/60000 [==============================] - 2s - loss: 0.2501 - acc: 0.9296 - val_loss: 0.2378 - val_acc: 0.9331\n",
      "Epoch 9/20\n",
      "60000/60000 [==============================] - 2s - loss: 0.2379 - acc: 0.9336 - val_loss: 0.2275 - val_acc: 0.9357\n",
      "Epoch 10/20\n",
      "60000/60000 [==============================] - 2s - loss: 0.2272 - acc: 0.9365 - val_loss: 0.2180 - val_acc: 0.9384\n",
      "Epoch 11/20\n",
      "60000/60000 [==============================] - 2s - loss: 0.2172 - acc: 0.9392 - val_loss: 0.2096 - val_acc: 0.9404\n",
      "Epoch 12/20\n",
      "60000/60000 [==============================] - 2s - loss: 0.2082 - acc: 0.9419 - val_loss: 0.2036 - val_acc: 0.9431\n",
      "Epoch 13/20\n",
      "60000/60000 [==============================] - 2s - loss: 0.1999 - acc: 0.9441 - val_loss: 0.1956 - val_acc: 0.9450\n",
      "Epoch 14/20\n",
      "60000/60000 [==============================] - 2s - loss: 0.1920 - acc: 0.9464 - val_loss: 0.1887 - val_acc: 0.9469\n",
      "Epoch 15/20\n",
      "60000/60000 [==============================] - 2s - loss: 0.1849 - acc: 0.9480 - val_loss: 0.1831 - val_acc: 0.9477\n",
      "Epoch 16/20\n",
      "60000/60000 [==============================] - 2s - loss: 0.1785 - acc: 0.9501 - val_loss: 0.1774 - val_acc: 0.9494\n",
      "Epoch 17/20\n",
      "60000/60000 [==============================] - 3s - loss: 0.1722 - acc: 0.9520 - val_loss: 0.1720 - val_acc: 0.9502\n",
      "Epoch 18/20\n",
      "60000/60000 [==============================] - 2s - loss: 0.1664 - acc: 0.9533 - val_loss: 0.1668 - val_acc: 0.9509\n",
      "Epoch 19/20\n",
      "60000/60000 [==============================] - 2s - loss: 0.1609 - acc: 0.9552 - val_loss: 0.1626 - val_acc: 0.9519\n",
      "Epoch 20/20\n",
      "60000/60000 [==============================] - 2s - loss: 0.1557 - acc: 0.9563 - val_loss: 0.1598 - val_acc: 0.9528\n",
      " 9536/10000 [===========================>..] - ETA: 0s\n",
      "test loss:  0.159835442692\n",
      "test accuracy:  0.9528\n"
     ]
    }
   ],
   "source": [
    "import numpy as np\n",
    "import keras.utils\n",
    "from keras.models import Sequential\n",
    "from keras.layers import Dense\n",
    "from keras.optimizers import SGD, RMSprop\n",
    "from keras.datasets import mnist\n",
    "from mnist import MNIST # used to read data from disk, instead of downloading it\n",
    "\n",
    "batch_size = 128\n",
    "n_classes = 10\n",
    "n_epochs = 20\n",
    "\n",
    "\"\"\"\n",
    "MNIST DATA:\n",
    "    - 60,000 training samples\n",
    "    - 10,000 testing samples\n",
    "    - 784 features (pixels)\n",
    "\"\"\"\n",
    "mnist_data = MNIST(r'C:\\Users\\Charlie\\MNIST_data')\n",
    "X_train_list, y_train_list = mnist_data.load_training()\n",
    "X_train = np.array(X_train_list) # shape=(n_samples, n_features) = (60000, 784)\n",
    "y_train = np.array(y_train_list) # shape=(n_samples,)\n",
    "X_test_list, y_test_list = mnist_data.load_testing()\n",
    "X_test = np.array(X_test_list)\n",
    "y_test = np.array(y_test_list)\n",
    "X_train = X_train.astype('float32')\n",
    "X_test = X_test.astype('float32')\n",
    "X_train /= 255\n",
    "X_test /= 255\n",
    "\n",
    "# convert class vectors to binary class matrices\n",
    "y_train = keras.utils.to_categorical(y_train, n_classes)\n",
    "y_test = keras.utils.to_categorical(y_test, n_classes)\n",
    "\n",
    "# Multilayer Perception for multi-class softmax classification on MNIST dataset\n",
    "\n",
    "model = Sequential()\n",
    "model.add(Dense(256, input_shape=(784,), activation='relu', use_bias=True)) # input and first hidden layer\n",
    "model.add(Dense(256, activation='relu', use_bias=True)) # second hidden layer\n",
    "model.add(Dense(n_classes, activation='softmax')) # output layer\n",
    "\n",
    "model.summary()\n",
    "\n",
    "sgd = SGD(lr=0.01)\n",
    "\n",
    "model.compile(loss='categorical_crossentropy',\n",
    "              optimizer=sgd,\n",
    "              metrics=['accuracy'])\n",
    "\n",
    "history = model.fit(X_train, y_train, \n",
    "                    epochs=n_epochs, \n",
    "                    batch_size=batch_size,\n",
    "                    verbose=True,\n",
    "                    validation_data=(X_test, y_test))\n",
    "\n",
    "score = model.evaluate(X_test, y_test, verbose=True)\n",
    "print('\\ntest loss: ', score[0])\n",
    "print('test accuracy: ', score[1])"
   ]
  },
  {
   "cell_type": "code",
   "execution_count": 30,
   "metadata": {},
   "outputs": [
    {
     "name": "stdout",
     "output_type": "stream",
     "text": [
      "[ 0.  0.  0.  0.  1.  0.  0.  0.  0.  0.]\n"
     ]
    },
    {
     "data": {
      "image/png": "[encoded data removed]",
      "text/plain": [
       "<matplotlib.figure.Figure at 0x222a0918a20>"
      ]
     },
     "metadata": {},
     "output_type": "display_data"
    }
   ],
   "source": [
    "import matplotlib.pyplot as plt\n",
    "\n",
    "plt.imshow(X_train[2].reshape((28,28)), cmap='Greys')\n",
    "print(y_train[2])"
   ]
  },
  {
   "cell_type": "code",
   "execution_count": 1,
   "metadata": {},
   "outputs": [
    {
     "name": "stdout",
     "output_type": "stream",
     "text": [
      "[name: \"/cpu:0\"\n",
      "device_type: \"CPU\"\n",
      "memory_limit: 268435456\n",
      "locality {\n",
      "}\n",
      "incarnation: 7858320324070667778\n",
      "]\n"
     ]
    }
   ],
   "source": [
    "from tensorflow.python.client import device_lib\n",
    "print(device_lib.list_local_devices())"
   ]
  },
  {
   "cell_type": "code",
   "execution_count": 5,
   "metadata": {},
   "outputs": [
    {
     "ename": "TypeError",
     "evalue": "run() missing 1 required positional argument: 'fetches'",
     "output_type": "error",
     "traceback": [
      "\u001b[1;31m---------------------------------------------------------------------------\u001b[0m",
      "\u001b[1;31mTypeError\u001b[0m                                 Traceback (most recent call last)",
      "\u001b[1;32m<ipython-input-5-74beacfeb148>\u001b[0m in \u001b[0;36m<module>\u001b[1;34m()\u001b[0m\n\u001b[0;32m      1\u001b[0m \u001b[1;32mimport\u001b[0m \u001b[0mtensorflow\u001b[0m \u001b[1;32mas\u001b[0m \u001b[0mtf\u001b[0m\u001b[1;33m\u001b[0m\u001b[0m\n\u001b[0;32m      2\u001b[0m \u001b[0msess\u001b[0m \u001b[1;33m=\u001b[0m \u001b[0mtf\u001b[0m\u001b[1;33m.\u001b[0m\u001b[0mSession\u001b[0m\u001b[1;33m(\u001b[0m\u001b[0mconfig\u001b[0m\u001b[1;33m=\u001b[0m\u001b[0mtf\u001b[0m\u001b[1;33m.\u001b[0m\u001b[0mConfigProto\u001b[0m\u001b[1;33m(\u001b[0m\u001b[0mlog_device_placement\u001b[0m\u001b[1;33m=\u001b[0m\u001b[1;32mTrue\u001b[0m\u001b[1;33m)\u001b[0m\u001b[1;33m)\u001b[0m\u001b[1;33m\u001b[0m\u001b[0m\n\u001b[1;32m----> 3\u001b[1;33m \u001b[0msess\u001b[0m\u001b[1;33m.\u001b[0m\u001b[0mrun\u001b[0m\u001b[1;33m(\u001b[0m\u001b[1;33m)\u001b[0m\u001b[1;33m\u001b[0m\u001b[0m\n\u001b[0m",
      "\u001b[1;31mTypeError\u001b[0m: run() missing 1 required positional argument: 'fetches'"
     ]
    }
   ],
   "source": [
    "import tensorflow as tf\n",
    "sess = tf.Session(config=tf.ConfigProto(log_device_placement=True))\n"
   ]
  },
  {
   "cell_type": "code",
   "execution_count": null,
   "metadata": {
    "collapsed": true
   },
   "outputs": [],
   "source": []
  }
 ],
 "metadata": {
  "kernelspec": {
   "display_name": "Python 3",
   "language": "python",
   "name": "python3"
  },
  "language_info": {
   "codemirror_mode": {
    "name": "ipython",
    "version": 3
   },
   "file_extension": ".py",
   "mimetype": "text/x-python",
   "name": "python",
   "nbconvert_exporter": "python",
   "pygments_lexer": "ipython3",
   "version": "3.5.4"
  }
 },
 "nbformat": 4,
 "nbformat_minor": 2
}
