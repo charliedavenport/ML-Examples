{
 "cells": [
  {
   "cell_type": "markdown",
   "metadata": {},
   "source": [
    "# Accurate MNIST\n",
    "\n",
    "The goal of this notebook is to train a model (using scikit-learn) to achieve at least 97% accuracy on the MNIST dataset. This is my solution to Ch3, exercise 1 in Hands-on ML using scikit-learn and tensorflow"
   ]
  },
  {
   "cell_type": "code",
   "execution_count": 1,
   "metadata": {},
   "outputs": [
    {
     "data": {
      "text/plain": [
       "{'COL_NAMES': ['label', 'data'],\n",
       " 'DESCR': 'mldata.org dataset: mnist-original',\n",
       " 'data': array([[0, 0, 0, ..., 0, 0, 0],\n",
       "        [0, 0, 0, ..., 0, 0, 0],\n",
       "        [0, 0, 0, ..., 0, 0, 0],\n",
       "        ..., \n",
       "        [0, 0, 0, ..., 0, 0, 0],\n",
       "        [0, 0, 0, ..., 0, 0, 0],\n",
       "        [0, 0, 0, ..., 0, 0, 0]], dtype=uint8),\n",
       " 'target': array([ 0.,  0.,  0., ...,  9.,  9.,  9.])}"
      ]
     },
     "execution_count": 1,
     "metadata": {},
     "output_type": "execute_result"
    }
   ],
   "source": [
    "import numpy as np\n",
    "from sklearn.datasets import fetch_mldata\n",
    "\n",
    "mnist = fetch_mldata('MNIST original')\n",
    "mnist"
   ]
  },
  {
   "cell_type": "code",
   "execution_count": 2,
   "metadata": {},
   "outputs": [],
   "source": [
    "X = mnist.data   # (70000, 784)\n",
    "y = mnist.target # (70000,)\n",
    "X_train, X_test = X[:60000], X[60000:]\n",
    "y_train, y_test = y[:60000], y[60000:]"
   ]
  },
  {
   "cell_type": "code",
   "execution_count": 3,
   "metadata": {
    "collapsed": true
   },
   "outputs": [],
   "source": [
    "from sklearn.ensemble import RandomForestClassifier\n",
    "\n",
    "rfc_clf = RandomForestClassifier() # default params to start"
   ]
  },
  {
   "cell_type": "code",
   "execution_count": 4,
   "metadata": {},
   "outputs": [
    {
     "data": {
      "text/plain": [
       "RandomForestClassifier(bootstrap=True, class_weight=None, criterion='gini',\n",
       "            max_depth=None, max_features='auto', max_leaf_nodes=None,\n",
       "            min_impurity_split=1e-07, min_samples_leaf=1,\n",
       "            min_samples_split=2, min_weight_fraction_leaf=0.0,\n",
       "            n_estimators=10, n_jobs=1, oob_score=False, random_state=None,\n",
       "            verbose=0, warm_start=False)"
      ]
     },
     "execution_count": 4,
     "metadata": {},
     "output_type": "execute_result"
    }
   ],
   "source": [
    "from sklearn.metrics import accuracy_score\n",
    "# first, let's see how the default params perform\n",
    "rfc_clf.fit(X_train, y_train)"
   ]
  },
  {
   "cell_type": "code",
   "execution_count": 5,
   "metadata": {
    "collapsed": true
   },
   "outputs": [],
   "source": [
    "pred = rfc_clf.predict(X_test)"
   ]
  },
  {
   "cell_type": "code",
   "execution_count": 6,
   "metadata": {},
   "outputs": [
    {
     "name": "stdout",
     "output_type": "stream",
     "text": [
      "0.9496\n"
     ]
    }
   ],
   "source": [
    "score = accuracy_score(y_test, pred)\n",
    "print(score) # initial score = 94.94; not a bad starting point"
   ]
  },
  {
   "cell_type": "markdown",
   "metadata": {},
   "source": [
    "# Running a Grid Search on the RandomForestClassifier"
   ]
  },
  {
   "cell_type": "code",
   "execution_count": 7,
   "metadata": {},
   "outputs": [
    {
     "name": "stdout",
     "output_type": "stream",
     "text": [
      "Fitting 5 folds for each of 27 candidates, totalling 135 fits\n",
      "[CV] max_depth=None, max_features=None, n_estimators=10 ..............\n",
      "[CV]  max_depth=None, max_features=None, n_estimators=10, score=0.939192, total= 1.4min\n",
      "[CV] max_depth=None, max_features=None, n_estimators=10 ..............\n"
     ]
    },
    {
     "name": "stderr",
     "output_type": "stream",
     "text": [
      "[Parallel(n_jobs=1)]: Done   1 out of   1 | elapsed:  1.4min remaining:    0.0s\n"
     ]
    },
    {
     "name": "stdout",
     "output_type": "stream",
     "text": [
      "[CV]  max_depth=None, max_features=None, n_estimators=10, score=0.938594, total= 1.4min\n",
      "[CV] max_depth=None, max_features=None, n_estimators=10 ..............\n"
     ]
    },
    {
     "name": "stderr",
     "output_type": "stream",
     "text": [
      "[Parallel(n_jobs=1)]: Done   2 out of   2 | elapsed:  2.8min remaining:    0.0s\n"
     ]
    },
    {
     "name": "stdout",
     "output_type": "stream",
     "text": [
      "[CV]  max_depth=None, max_features=None, n_estimators=10, score=0.937750, total= 1.8min\n",
      "[CV] max_depth=None, max_features=None, n_estimators=10 ..............\n",
      "[CV]  max_depth=None, max_features=None, n_estimators=10, score=0.930316, total= 1.7min\n",
      "[CV] max_depth=None, max_features=None, n_estimators=10 ..............\n",
      "[CV]  max_depth=None, max_features=None, n_estimators=10, score=0.940480, total= 1.7min\n",
      "[CV] max_depth=None, max_features=None, n_estimators=20 ..............\n",
      "[CV]  max_depth=None, max_features=None, n_estimators=20, score=0.948272, total= 3.3min\n",
      "[CV] max_depth=None, max_features=None, n_estimators=20 ..............\n",
      "[CV]  max_depth=None, max_features=None, n_estimators=20, score=0.941926, total= 3.4min\n",
      "[CV] max_depth=None, max_features=None, n_estimators=20 ..............\n",
      "[CV]  max_depth=None, max_features=None, n_estimators=20, score=0.945000, total= 2.9min\n",
      "[CV] max_depth=None, max_features=None, n_estimators=20 ..............\n",
      "[CV]  max_depth=None, max_features=None, n_estimators=20, score=0.946487, total= 3.0min\n",
      "[CV] max_depth=None, max_features=None, n_estimators=20 ..............\n",
      "[CV]  max_depth=None, max_features=None, n_estimators=20, score=0.953901, total= 3.0min\n",
      "[CV] max_depth=None, max_features=None, n_estimators=30 ..............\n",
      "[CV]  max_depth=None, max_features=None, n_estimators=30, score=0.950354, total= 4.5min\n",
      "[CV] max_depth=None, max_features=None, n_estimators=30 ..............\n",
      "[CV]  max_depth=None, max_features=None, n_estimators=30, score=0.950425, total= 4.6min\n",
      "[CV] max_depth=None, max_features=None, n_estimators=30 ..............\n",
      "[CV]  max_depth=None, max_features=None, n_estimators=30, score=0.946167, total= 4.4min\n",
      "[CV] max_depth=None, max_features=None, n_estimators=30 ..............\n",
      "[CV]  max_depth=None, max_features=None, n_estimators=30, score=0.949071, total=16.8min\n",
      "[CV] max_depth=None, max_features=None, n_estimators=30 ..............\n",
      "[CV]  max_depth=None, max_features=None, n_estimators=30, score=0.956402, total= 4.6min\n",
      "[CV] max_depth=None, max_features=sqrt, n_estimators=10 ..............\n",
      "[CV]  max_depth=None, max_features=sqrt, n_estimators=10, score=0.944023, total=   3.5s\n",
      "[CV] max_depth=None, max_features=sqrt, n_estimators=10 ..............\n",
      "[CV]  max_depth=None, max_features=sqrt, n_estimators=10, score=0.941343, total=   3.5s\n",
      "[CV] max_depth=None, max_features=sqrt, n_estimators=10 ..............\n",
      "[CV]  max_depth=None, max_features=sqrt, n_estimators=10, score=0.940583, total=   3.5s\n",
      "[CV] max_depth=None, max_features=sqrt, n_estimators=10 ..............\n",
      "[CV]  max_depth=None, max_features=sqrt, n_estimators=10, score=0.937234, total=   3.3s\n",
      "[CV] max_depth=None, max_features=sqrt, n_estimators=10 ..............\n",
      "[CV]  max_depth=None, max_features=sqrt, n_estimators=10, score=0.951651, total=   3.4s\n",
      "[CV] max_depth=None, max_features=sqrt, n_estimators=20 ..............\n",
      "[CV]  max_depth=None, max_features=sqrt, n_estimators=20, score=0.957351, total=   7.0s\n",
      "[CV] max_depth=None, max_features=sqrt, n_estimators=20 ..............\n",
      "[CV]  max_depth=None, max_features=sqrt, n_estimators=20, score=0.955841, total=   6.7s\n",
      "[CV] max_depth=None, max_features=sqrt, n_estimators=20 ..............\n",
      "[CV]  max_depth=None, max_features=sqrt, n_estimators=20, score=0.952917, total=   6.8s\n",
      "[CV] max_depth=None, max_features=sqrt, n_estimators=20 ..............\n",
      "[CV]  max_depth=None, max_features=sqrt, n_estimators=20, score=0.953322, total=   7.3s\n",
      "[CV] max_depth=None, max_features=sqrt, n_estimators=20 ..............\n",
      "[CV]  max_depth=None, max_features=sqrt, n_estimators=20, score=0.961737, total=   7.9s\n",
      "[CV] max_depth=None, max_features=sqrt, n_estimators=30 ..............\n",
      "[CV]  max_depth=None, max_features=sqrt, n_estimators=30, score=0.960933, total=  10.8s\n",
      "[CV] max_depth=None, max_features=sqrt, n_estimators=30 ..............\n",
      "[CV]  max_depth=None, max_features=sqrt, n_estimators=30, score=0.959757, total=  11.2s\n",
      "[CV] max_depth=None, max_features=sqrt, n_estimators=30 ..............\n",
      "[CV]  max_depth=None, max_features=sqrt, n_estimators=30, score=0.958167, total=  11.5s\n",
      "[CV] max_depth=None, max_features=sqrt, n_estimators=30 ..............\n",
      "[CV]  max_depth=None, max_features=sqrt, n_estimators=30, score=0.959073, total=  11.1s\n",
      "[CV] max_depth=None, max_features=sqrt, n_estimators=30 ..............\n",
      "[CV]  max_depth=None, max_features=sqrt, n_estimators=30, score=0.964572, total=  10.9s\n",
      "[CV] max_depth=None, max_features=log2, n_estimators=10 ..............\n",
      "[CV]  max_depth=None, max_features=log2, n_estimators=10, score=0.935610, total=   1.3s\n",
      "[CV] max_depth=None, max_features=log2, n_estimators=10 ..............\n",
      "[CV]  max_depth=None, max_features=log2, n_estimators=10, score=0.931845, total=   1.4s\n",
      "[CV] max_depth=None, max_features=log2, n_estimators=10 ..............\n",
      "[CV]  max_depth=None, max_features=log2, n_estimators=10, score=0.928083, total=   1.3s\n",
      "[CV] max_depth=None, max_features=log2, n_estimators=10 ..............\n",
      "[CV]  max_depth=None, max_features=log2, n_estimators=10, score=0.925148, total=   1.4s\n",
      "[CV] max_depth=None, max_features=log2, n_estimators=10 ..............\n",
      "[CV]  max_depth=None, max_features=log2, n_estimators=10, score=0.933811, total=   1.4s\n",
      "[CV] max_depth=None, max_features=log2, n_estimators=20 ..............\n",
      "[CV]  max_depth=None, max_features=log2, n_estimators=20, score=0.950604, total=   2.6s\n",
      "[CV] max_depth=None, max_features=log2, n_estimators=20 ..............\n",
      "[CV]  max_depth=None, max_features=log2, n_estimators=20, score=0.951341, total=   2.6s\n",
      "[CV] max_depth=None, max_features=log2, n_estimators=20 ..............\n",
      "[CV]  max_depth=None, max_features=log2, n_estimators=20, score=0.946500, total=   2.7s\n",
      "[CV] max_depth=None, max_features=log2, n_estimators=20 ..............\n",
      "[CV]  max_depth=None, max_features=log2, n_estimators=20, score=0.943819, total=   2.7s\n",
      "[CV] max_depth=None, max_features=log2, n_estimators=20 ..............\n",
      "[CV]  max_depth=None, max_features=log2, n_estimators=20, score=0.954151, total=   2.7s\n",
      "[CV] max_depth=None, max_features=log2, n_estimators=30 ..............\n",
      "[CV]  max_depth=None, max_features=log2, n_estimators=30, score=0.957185, total=   4.1s\n",
      "[CV] max_depth=None, max_features=log2, n_estimators=30 ..............\n",
      "[CV]  max_depth=None, max_features=log2, n_estimators=30, score=0.956507, total=   3.9s\n",
      "[CV] max_depth=None, max_features=log2, n_estimators=30 ..............\n",
      "[CV]  max_depth=None, max_features=log2, n_estimators=30, score=0.953250, total=   3.9s\n",
      "[CV] max_depth=None, max_features=log2, n_estimators=30 ..............\n",
      "[CV]  max_depth=None, max_features=log2, n_estimators=30, score=0.952655, total=   3.8s\n",
      "[CV] max_depth=None, max_features=log2, n_estimators=30 ..............\n",
      "[CV]  max_depth=None, max_features=log2, n_estimators=30, score=0.960320, total=   4.0s\n",
      "[CV] max_depth=10, max_features=None, n_estimators=10 ................\n",
      "[CV]  max_depth=10, max_features=None, n_estimators=10, score=0.927197, total=  53.9s\n",
      "[CV] max_depth=10, max_features=None, n_estimators=10 ................\n",
      "[CV]  max_depth=10, max_features=None, n_estimators=10, score=0.917430, total=  57.2s\n",
      "[CV] max_depth=10, max_features=None, n_estimators=10 ................\n",
      "[CV]  max_depth=10, max_features=None, n_estimators=10, score=0.904917, total=  56.6s\n",
      "[CV] max_depth=10, max_features=None, n_estimators=10 ................\n",
      "[CV]  max_depth=10, max_features=None, n_estimators=10, score=0.921230, total=  56.8s\n",
      "[CV] max_depth=10, max_features=None, n_estimators=10 ................\n",
      "[CV]  max_depth=10, max_features=None, n_estimators=10, score=0.923391, total=  59.8s\n",
      "[CV] max_depth=10, max_features=None, n_estimators=20 ................\n",
      "[CV]  max_depth=10, max_features=None, n_estimators=20, score=0.922199, total= 2.1min\n",
      "[CV] max_depth=10, max_features=None, n_estimators=20 ................\n",
      "[CV]  max_depth=10, max_features=None, n_estimators=20, score=0.922846, total= 1.9min\n",
      "[CV] max_depth=10, max_features=None, n_estimators=20 ................\n",
      "[CV]  max_depth=10, max_features=None, n_estimators=20, score=0.912083, total= 1.9min\n",
      "[CV] max_depth=10, max_features=None, n_estimators=20 ................\n",
      "[CV]  max_depth=10, max_features=None, n_estimators=20, score=0.925231, total= 1.8min\n",
      "[CV] max_depth=10, max_features=None, n_estimators=20 ................\n"
     ]
    },
    {
     "name": "stdout",
     "output_type": "stream",
     "text": [
      "[CV]  max_depth=10, max_features=None, n_estimators=20, score=0.931977, total= 1.8min\n",
      "[CV] max_depth=10, max_features=None, n_estimators=30 ................\n",
      "[CV]  max_depth=10, max_features=None, n_estimators=30, score=0.931445, total= 2.4min\n",
      "[CV] max_depth=10, max_features=None, n_estimators=30 ................\n",
      "[CV]  max_depth=10, max_features=None, n_estimators=30, score=0.930428, total= 2.3min\n",
      "[CV] max_depth=10, max_features=None, n_estimators=30 ................\n",
      "[CV]  max_depth=10, max_features=None, n_estimators=30, score=0.915833, total= 2.4min\n",
      "[CV] max_depth=10, max_features=None, n_estimators=30 ................\n",
      "[CV]  max_depth=10, max_features=None, n_estimators=30, score=0.926898, total= 2.3min\n",
      "[CV] max_depth=10, max_features=None, n_estimators=30 ................\n",
      "[CV]  max_depth=10, max_features=None, n_estimators=30, score=0.933228, total= 2.4min\n",
      "[CV] max_depth=10, max_features=sqrt, n_estimators=10 ................\n",
      "[CV]  max_depth=10, max_features=sqrt, n_estimators=10, score=0.929030, total=   2.0s\n",
      "[CV] max_depth=10, max_features=sqrt, n_estimators=10 ................\n",
      "[CV]  max_depth=10, max_features=sqrt, n_estimators=10, score=0.919097, total=   2.0s\n",
      "[CV] max_depth=10, max_features=sqrt, n_estimators=10 ................\n",
      "[CV]  max_depth=10, max_features=sqrt, n_estimators=10, score=0.919750, total=   2.1s\n",
      "[CV] max_depth=10, max_features=sqrt, n_estimators=10 ................\n",
      "[CV]  max_depth=10, max_features=sqrt, n_estimators=10, score=0.919730, total=   2.1s\n",
      "[CV] max_depth=10, max_features=sqrt, n_estimators=10 ................\n",
      "[CV]  max_depth=10, max_features=sqrt, n_estimators=10, score=0.930060, total=   2.1s\n",
      "[CV] max_depth=10, max_features=sqrt, n_estimators=20 ................\n",
      "[CV]  max_depth=10, max_features=sqrt, n_estimators=20, score=0.936776, total=   4.0s\n",
      "[CV] max_depth=10, max_features=sqrt, n_estimators=20 ................\n",
      "[CV]  max_depth=10, max_features=sqrt, n_estimators=20, score=0.933511, total=   4.1s\n",
      "[CV] max_depth=10, max_features=sqrt, n_estimators=20 ................\n",
      "[CV]  max_depth=10, max_features=sqrt, n_estimators=20, score=0.931250, total=   4.1s\n",
      "[CV] max_depth=10, max_features=sqrt, n_estimators=20 ................\n",
      "[CV]  max_depth=10, max_features=sqrt, n_estimators=20, score=0.930566, total=   4.1s\n",
      "[CV] max_depth=10, max_features=sqrt, n_estimators=20 ................\n",
      "[CV]  max_depth=10, max_features=sqrt, n_estimators=20, score=0.941480, total=   4.7s\n",
      "[CV] max_depth=10, max_features=sqrt, n_estimators=30 ................\n",
      "[CV]  max_depth=10, max_features=sqrt, n_estimators=30, score=0.942691, total=104.0min\n",
      "[CV] max_depth=10, max_features=sqrt, n_estimators=30 ................\n",
      "[CV]  max_depth=10, max_features=sqrt, n_estimators=30, score=0.937594, total=   7.6s\n",
      "[CV] max_depth=10, max_features=sqrt, n_estimators=30 ................\n",
      "[CV]  max_depth=10, max_features=sqrt, n_estimators=30, score=0.935667, total=   7.6s\n",
      "[CV] max_depth=10, max_features=sqrt, n_estimators=30 ................\n",
      "[CV]  max_depth=10, max_features=sqrt, n_estimators=30, score=0.934734, total=   7.4s\n",
      "[CV] max_depth=10, max_features=sqrt, n_estimators=30 ................\n",
      "[CV]  max_depth=10, max_features=sqrt, n_estimators=30, score=0.943565, total=   6.9s\n",
      "[CV] max_depth=10, max_features=log2, n_estimators=10 ................\n",
      "[CV]  max_depth=10, max_features=log2, n_estimators=10, score=0.906955, total=   1.0s\n",
      "[CV] max_depth=10, max_features=log2, n_estimators=10 ................\n",
      "[CV]  max_depth=10, max_features=log2, n_estimators=10, score=0.903099, total=   1.0s\n",
      "[CV] max_depth=10, max_features=log2, n_estimators=10 ................\n",
      "[CV]  max_depth=10, max_features=log2, n_estimators=10, score=0.893417, total=   1.0s\n",
      "[CV] max_depth=10, max_features=log2, n_estimators=10 ................\n",
      "[CV]  max_depth=10, max_features=log2, n_estimators=10, score=0.897308, total=   1.0s\n",
      "[CV] max_depth=10, max_features=log2, n_estimators=10 ................\n",
      "[CV]  max_depth=10, max_features=log2, n_estimators=10, score=0.913555, total=   1.1s\n",
      "[CV] max_depth=10, max_features=log2, n_estimators=20 ................\n",
      "[CV]  max_depth=10, max_features=log2, n_estimators=20, score=0.925198, total=   1.7s\n",
      "[CV] max_depth=10, max_features=log2, n_estimators=20 ................\n",
      "[CV]  max_depth=10, max_features=log2, n_estimators=20, score=0.925679, total=   1.7s\n",
      "[CV] max_depth=10, max_features=log2, n_estimators=20 ................\n",
      "[CV]  max_depth=10, max_features=log2, n_estimators=20, score=0.915750, total=   1.7s\n",
      "[CV] max_depth=10, max_features=log2, n_estimators=20 ................\n",
      "[CV]  max_depth=10, max_features=log2, n_estimators=20, score=0.924314, total=   1.7s\n",
      "[CV] max_depth=10, max_features=log2, n_estimators=20 ................\n",
      "[CV]  max_depth=10, max_features=log2, n_estimators=20, score=0.928976, total=   1.7s\n",
      "[CV] max_depth=10, max_features=log2, n_estimators=30 ................\n",
      "[CV]  max_depth=10, max_features=log2, n_estimators=30, score=0.932362, total=   2.5s\n",
      "[CV] max_depth=10, max_features=log2, n_estimators=30 ................\n",
      "[CV]  max_depth=10, max_features=log2, n_estimators=30, score=0.927095, total=   2.6s\n",
      "[CV] max_depth=10, max_features=log2, n_estimators=30 ................\n",
      "[CV]  max_depth=10, max_features=log2, n_estimators=30, score=0.921833, total=   2.7s\n",
      "[CV] max_depth=10, max_features=log2, n_estimators=30 ................\n",
      "[CV]  max_depth=10, max_features=log2, n_estimators=30, score=0.925148, total=   2.9s\n",
      "[CV] max_depth=10, max_features=log2, n_estimators=30 ................\n",
      "[CV]  max_depth=10, max_features=log2, n_estimators=30, score=0.934645, total=   3.4s\n",
      "[CV] max_depth=5, max_features=None, n_estimators=10 .................\n",
      "[CV]  max_depth=5, max_features=None, n_estimators=10, score=0.755435, total=  28.9s\n",
      "[CV] max_depth=5, max_features=None, n_estimators=10 .................\n",
      "[CV]  max_depth=5, max_features=None, n_estimators=10, score=0.750792, total=  27.6s\n",
      "[CV] max_depth=5, max_features=None, n_estimators=10 .................\n",
      "[CV]  max_depth=5, max_features=None, n_estimators=10, score=0.745083, total=  27.1s\n",
      "[CV] max_depth=5, max_features=None, n_estimators=10 .................\n",
      "[CV]  max_depth=5, max_features=None, n_estimators=10, score=0.773527, total=  27.3s\n",
      "[CV] max_depth=5, max_features=None, n_estimators=10 .................\n",
      "[CV]  max_depth=5, max_features=None, n_estimators=10, score=0.744498, total=  27.2s\n",
      "[CV] max_depth=5, max_features=None, n_estimators=20 .................\n",
      "[CV]  max_depth=5, max_features=None, n_estimators=20, score=0.757351, total=  54.3s\n",
      "[CV] max_depth=5, max_features=None, n_estimators=20 .................\n",
      "[CV]  max_depth=5, max_features=None, n_estimators=20, score=0.760207, total=  54.0s\n",
      "[CV] max_depth=5, max_features=None, n_estimators=20 .................\n",
      "[CV]  max_depth=5, max_features=None, n_estimators=20, score=0.740500, total=  54.4s\n",
      "[CV] max_depth=5, max_features=None, n_estimators=20 .................\n",
      "[CV]  max_depth=5, max_features=None, n_estimators=20, score=0.774944, total=  54.1s\n",
      "[CV] max_depth=5, max_features=None, n_estimators=20 .................\n",
      "[CV]  max_depth=5, max_features=None, n_estimators=20, score=0.742164, total=  54.4s\n",
      "[CV] max_depth=5, max_features=None, n_estimators=30 .................\n",
      "[CV]  max_depth=5, max_features=None, n_estimators=30, score=0.768097, total= 1.4min\n",
      "[CV] max_depth=5, max_features=None, n_estimators=30 .................\n",
      "[CV]  max_depth=5, max_features=None, n_estimators=30, score=0.754374, total= 1.3min\n",
      "[CV] max_depth=5, max_features=None, n_estimators=30 .................\n",
      "[CV]  max_depth=5, max_features=None, n_estimators=30, score=0.734583, total= 1.3min\n",
      "[CV] max_depth=5, max_features=None, n_estimators=30 .................\n",
      "[CV]  max_depth=5, max_features=None, n_estimators=30, score=0.772777, total= 1.3min\n",
      "[CV] max_depth=5, max_features=None, n_estimators=30 .................\n",
      "[CV]  max_depth=5, max_features=None, n_estimators=30, score=0.739163, total= 1.4min\n",
      "[CV] max_depth=5, max_features=sqrt, n_estimators=10 .................\n",
      "[CV]  max_depth=5, max_features=sqrt, n_estimators=10, score=0.806997, total=   1.3s\n",
      "[CV] max_depth=5, max_features=sqrt, n_estimators=10 .................\n",
      "[CV]  max_depth=5, max_features=sqrt, n_estimators=10, score=0.807865, total=   1.2s\n",
      "[CV] max_depth=5, max_features=sqrt, n_estimators=10 .................\n"
     ]
    },
    {
     "name": "stdout",
     "output_type": "stream",
     "text": [
      "[CV]  max_depth=5, max_features=sqrt, n_estimators=10, score=0.788250, total=   1.3s\n",
      "[CV] max_depth=5, max_features=sqrt, n_estimators=10 .................\n",
      "[CV]  max_depth=5, max_features=sqrt, n_estimators=10, score=0.812787, total=   1.2s\n",
      "[CV] max_depth=5, max_features=sqrt, n_estimators=10 .................\n",
      "[CV]  max_depth=5, max_features=sqrt, n_estimators=10, score=0.820857, total=   1.3s\n",
      "[CV] max_depth=5, max_features=sqrt, n_estimators=20 .................\n",
      "[CV]  max_depth=5, max_features=sqrt, n_estimators=20, score=0.839150, total=   2.4s\n",
      "[CV] max_depth=5, max_features=sqrt, n_estimators=20 .................\n",
      "[CV]  max_depth=5, max_features=sqrt, n_estimators=20, score=0.811031, total=   2.5s\n",
      "[CV] max_depth=5, max_features=sqrt, n_estimators=20 .................\n",
      "[CV]  max_depth=5, max_features=sqrt, n_estimators=20, score=0.826083, total=   2.4s\n",
      "[CV] max_depth=5, max_features=sqrt, n_estimators=20 .................\n",
      "[CV]  max_depth=5, max_features=sqrt, n_estimators=20, score=0.831208, total=   2.4s\n",
      "[CV] max_depth=5, max_features=sqrt, n_estimators=20 .................\n",
      "[CV]  max_depth=5, max_features=sqrt, n_estimators=20, score=0.847866, total=   2.4s\n",
      "[CV] max_depth=5, max_features=sqrt, n_estimators=30 .................\n",
      "[CV]  max_depth=5, max_features=sqrt, n_estimators=30, score=0.839983, total=   3.6s\n",
      "[CV] max_depth=5, max_features=sqrt, n_estimators=30 .................\n",
      "[CV]  max_depth=5, max_features=sqrt, n_estimators=30, score=0.835694, total=   3.6s\n",
      "[CV] max_depth=5, max_features=sqrt, n_estimators=30 .................\n",
      "[CV]  max_depth=5, max_features=sqrt, n_estimators=30, score=0.831750, total=   3.6s\n",
      "[CV] max_depth=5, max_features=sqrt, n_estimators=30 .................\n",
      "[CV]  max_depth=5, max_features=sqrt, n_estimators=30, score=0.834375, total=   3.5s\n",
      "[CV] max_depth=5, max_features=sqrt, n_estimators=30 .................\n",
      "[CV]  max_depth=5, max_features=sqrt, n_estimators=30, score=0.856702, total=   3.5s\n",
      "[CV] max_depth=5, max_features=log2, n_estimators=10 .................\n",
      "[CV]  max_depth=5, max_features=log2, n_estimators=10, score=0.794419, total=   0.6s\n",
      "[CV] max_depth=5, max_features=log2, n_estimators=10 .................\n",
      "[CV]  max_depth=5, max_features=log2, n_estimators=10, score=0.763956, total=   0.5s\n",
      "[CV] max_depth=5, max_features=log2, n_estimators=10 .................\n",
      "[CV]  max_depth=5, max_features=log2, n_estimators=10, score=0.780833, total=   0.5s\n",
      "[CV] max_depth=5, max_features=log2, n_estimators=10 .................\n",
      "[CV]  max_depth=5, max_features=log2, n_estimators=10, score=0.774110, total=   0.5s\n",
      "[CV] max_depth=5, max_features=log2, n_estimators=10 .................\n",
      "[CV]  max_depth=5, max_features=log2, n_estimators=10, score=0.788013, total=   0.5s\n",
      "[CV] max_depth=5, max_features=log2, n_estimators=20 .................\n",
      "[CV]  max_depth=5, max_features=log2, n_estimators=20, score=0.807497, total=   1.0s\n",
      "[CV] max_depth=5, max_features=log2, n_estimators=20 .................\n",
      "[CV]  max_depth=5, max_features=log2, n_estimators=20, score=0.802700, total=   1.0s\n",
      "[CV] max_depth=5, max_features=log2, n_estimators=20 .................\n",
      "[CV]  max_depth=5, max_features=log2, n_estimators=20, score=0.803250, total=   1.0s\n",
      "[CV] max_depth=5, max_features=log2, n_estimators=20 .................\n",
      "[CV]  max_depth=5, max_features=log2, n_estimators=20, score=0.815621, total=   1.0s\n",
      "[CV] max_depth=5, max_features=log2, n_estimators=20 .................\n",
      "[CV]  max_depth=5, max_features=log2, n_estimators=20, score=0.837946, total=   1.0s\n",
      "[CV] max_depth=5, max_features=log2, n_estimators=30 .................\n",
      "[CV]  max_depth=5, max_features=log2, n_estimators=30, score=0.841566, total=   1.4s\n",
      "[CV] max_depth=5, max_features=log2, n_estimators=30 .................\n",
      "[CV]  max_depth=5, max_features=log2, n_estimators=30, score=0.821113, total=   1.4s\n",
      "[CV] max_depth=5, max_features=log2, n_estimators=30 .................\n",
      "[CV]  max_depth=5, max_features=log2, n_estimators=30, score=0.827417, total=   1.4s\n",
      "[CV] max_depth=5, max_features=log2, n_estimators=30 .................\n",
      "[CV]  max_depth=5, max_features=log2, n_estimators=30, score=0.832708, total=   1.5s\n",
      "[CV] max_depth=5, max_features=log2, n_estimators=30 .................\n",
      "[CV]  max_depth=5, max_features=log2, n_estimators=30, score=0.852868, total=   1.5s\n"
     ]
    },
    {
     "name": "stderr",
     "output_type": "stream",
     "text": [
      "[Parallel(n_jobs=1)]: Done 135 out of 135 | elapsed: 207.9min finished\n"
     ]
    },
    {
     "data": {
      "text/plain": [
       "GridSearchCV(cv=5, error_score='raise',\n",
       "       estimator=RandomForestClassifier(bootstrap=True, class_weight=None, criterion='gini',\n",
       "            max_depth=None, max_features='auto', max_leaf_nodes=None,\n",
       "            min_impurity_split=1e-07, min_samples_leaf=1,\n",
       "            min_samples_split=2, min_weight_fraction_leaf=0.0,\n",
       "            n_estimators=10, n_jobs=1, oob_score=False, random_state=None,\n",
       "            verbose=0, warm_start=False),\n",
       "       fit_params={}, iid=True, n_jobs=1,\n",
       "       param_grid={'n_estimators': [10, 20, 30], 'max_features': [None, 'sqrt', 'log2'], 'max_depth': [None, 10, 5]},\n",
       "       pre_dispatch='2*n_jobs', refit=True, return_train_score=True,\n",
       "       scoring=None, verbose=3)"
      ]
     },
     "execution_count": 7,
     "metadata": {},
     "output_type": "execute_result"
    }
   ],
   "source": [
    "from sklearn.model_selection import GridSearchCV\n",
    "\n",
    "params = {'n_estimators' : [10, 20, 30],\n",
    "          'max_features' : [None, 'sqrt', 'log2'],\n",
    "          'max_depth' : [None, 10]\n",
    "         }\n",
    "grid_search = GridSearchCV(rfc_clf, params, cv=5, verbose=3)\n",
    "grid_search.fit(X_train, y_train)"
   ]
  },
  {
   "cell_type": "code",
   "execution_count": 13,
   "metadata": {},
   "outputs": [
    {
     "data": {
      "text/plain": [
       "0.96309999999999996"
      ]
     },
     "execution_count": 13,
     "metadata": {},
     "output_type": "execute_result"
    }
   ],
   "source": [
    "rfc_best = grid_search.best_estimator_\n",
    "pred = rfc_best.predict(X_test)\n",
    "score = accuracy_score(y_test, pred)\n",
    "score\n",
    "\n",
    "# 96.31% test accuracy - not bad, but still not 97%"
   ]
  },
  {
   "cell_type": "code",
   "execution_count": 15,
   "metadata": {},
   "outputs": [
    {
     "name": "stdout",
     "output_type": "stream",
     "text": [
      "Fitting 5 folds for each of 4 candidates, totalling 20 fits\n",
      "[CV] n_estimators=30 .................................................\n",
      "[CV] .................. n_estimators=30, score=0.961100, total=   9.1s\n",
      "[CV] n_estimators=30 .................................................\n"
     ]
    },
    {
     "name": "stderr",
     "output_type": "stream",
     "text": [
      "[Parallel(n_jobs=1)]: Done   1 out of   1 | elapsed:    9.8s remaining:    0.0s\n"
     ]
    },
    {
     "name": "stdout",
     "output_type": "stream",
     "text": [
      "[CV] .................. n_estimators=30, score=0.957007, total=   8.8s\n",
      "[CV] n_estimators=30 .................................................\n"
     ]
    },
    {
     "name": "stderr",
     "output_type": "stream",
     "text": [
      "[Parallel(n_jobs=1)]: Done   2 out of   2 | elapsed:   19.3s remaining:    0.0s\n"
     ]
    },
    {
     "name": "stdout",
     "output_type": "stream",
     "text": [
      "[CV] .................. n_estimators=30, score=0.959917, total=   9.2s\n",
      "[CV] n_estimators=30 .................................................\n",
      "[CV] .................. n_estimators=30, score=0.957656, total=   9.1s\n",
      "[CV] n_estimators=30 .................................................\n",
      "[CV] .................. n_estimators=30, score=0.966155, total=   8.8s\n",
      "[CV] n_estimators=35 .................................................\n",
      "[CV] .................. n_estimators=35, score=0.963099, total=  10.5s\n",
      "[CV] n_estimators=35 .................................................\n",
      "[CV] .................. n_estimators=35, score=0.961256, total=  10.4s\n",
      "[CV] n_estimators=35 .................................................\n",
      "[CV] .................. n_estimators=35, score=0.959250, total=  10.4s\n",
      "[CV] n_estimators=35 .................................................\n",
      "[CV] .................. n_estimators=35, score=0.958156, total=  10.1s\n",
      "[CV] n_estimators=35 .................................................\n",
      "[CV] .................. n_estimators=35, score=0.965905, total=  10.5s\n",
      "[CV] n_estimators=40 .................................................\n",
      "[CV] .................. n_estimators=40, score=0.964598, total=  11.5s\n",
      "[CV] n_estimators=40 .................................................\n",
      "[CV] .................. n_estimators=40, score=0.962590, total=  12.2s\n",
      "[CV] n_estimators=40 .................................................\n",
      "[CV] .................. n_estimators=40, score=0.960167, total=  12.0s\n",
      "[CV] n_estimators=40 .................................................\n",
      "[CV] .................. n_estimators=40, score=0.960490, total=  12.0s\n",
      "[CV] n_estimators=40 .................................................\n",
      "[CV] .................. n_estimators=40, score=0.966489, total=  11.6s\n",
      "[CV] n_estimators=45 .................................................\n",
      "[CV] .................. n_estimators=45, score=0.964098, total=  13.5s\n",
      "[CV] n_estimators=45 .................................................\n",
      "[CV] .................. n_estimators=45, score=0.962423, total=  13.6s\n",
      "[CV] n_estimators=45 .................................................\n",
      "[CV] .................. n_estimators=45, score=0.961083, total=  13.4s\n",
      "[CV] n_estimators=45 .................................................\n",
      "[CV] .................. n_estimators=45, score=0.960407, total=  13.7s\n",
      "[CV] n_estimators=45 .................................................\n",
      "[CV] .................. n_estimators=45, score=0.967573, total=  15.0s\n"
     ]
    },
    {
     "name": "stderr",
     "output_type": "stream",
     "text": [
      "[Parallel(n_jobs=1)]: Done  20 out of  20 | elapsed:  4.1min finished\n"
     ]
    },
    {
     "data": {
      "text/plain": [
       "GridSearchCV(cv=5, error_score='raise',\n",
       "       estimator=RandomForestClassifier(bootstrap=True, class_weight=None, criterion='gini',\n",
       "            max_depth=None, max_features='auto', max_leaf_nodes=None,\n",
       "            min_impurity_split=1e-07, min_samples_leaf=1,\n",
       "            min_samples_split=2, min_weight_fraction_leaf=0.0,\n",
       "            n_estimators=10, n_jobs=1, oob_score=False, random_state=None,\n",
       "            verbose=0, warm_start=False),\n",
       "       fit_params={}, iid=True, n_jobs=1,\n",
       "       param_grid={'n_estimators': [30, 35, 40, 45]},\n",
       "       pre_dispatch='2*n_jobs', refit=True, return_train_score=True,\n",
       "       scoring=None, verbose=3)"
      ]
     },
     "execution_count": 15,
     "metadata": {},
     "output_type": "execute_result"
    }
   ],
   "source": [
    "# seems like the most important parameter is n_estimators\n",
    "# we'll run another grid search with different n_estimators values\n",
    "rfc_clf = RandomForestClassifier() # starting over with a new blank classifier\n",
    "grid_search = GridSearchCV(rfc_clf, {'n_estimators' : [30, 35, 40, 45]},\n",
    "                           cv=5, verbose=3)\n",
    "grid_search.fit(X_train, y_train)"
   ]
  },
  {
   "cell_type": "code",
   "execution_count": 18,
   "metadata": {},
   "outputs": [
    {
     "data": {
      "text/plain": [
       "{'n_estimators': 45}"
      ]
     },
     "execution_count": 18,
     "metadata": {},
     "output_type": "execute_result"
    }
   ],
   "source": [
    "grid_search.best_params_"
   ]
  },
  {
   "cell_type": "code",
   "execution_count": 16,
   "metadata": {},
   "outputs": [
    {
     "data": {
      "text/plain": [
       "0.96699999999999997"
      ]
     },
     "execution_count": 16,
     "metadata": {},
     "output_type": "execute_result"
    }
   ],
   "source": [
    "rfc_clf_best = grid_search.best_estimator_\n",
    "pred = rfc_clf_best.predict(X_test)\n",
    "score = accuracy_score(y_test, pred)\n",
    "score\n",
    "\n",
    "# 96.70% test accuracy - so close I can taste it!!"
   ]
  },
  {
   "cell_type": "markdown",
   "metadata": {},
   "source": [
    "# Gradient Tree Boosting\n",
    "\n"
   ]
  },
  {
   "cell_type": "code",
   "execution_count": null,
   "metadata": {
    "collapsed": true
   },
   "outputs": [],
   "source": []
  }
 ],
 "metadata": {
  "kernelspec": {
   "display_name": "Python 3",
   "language": "python",
   "name": "python3"
  },
  "language_info": {
   "codemirror_mode": {
    "name": "ipython",
    "version": 3
   },
   "file_extension": ".py",
   "mimetype": "text/x-python",
   "name": "python",
   "nbconvert_exporter": "python",
   "pygments_lexer": "ipython3",
   "version": "3.5.4"
  }
 },
 "nbformat": 4,
 "nbformat_minor": 2
}
